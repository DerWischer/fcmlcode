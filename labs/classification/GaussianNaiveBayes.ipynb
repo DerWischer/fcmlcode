{
 "cells": [
  {
   "cell_type": "markdown",
   "metadata": {},
   "source": [
    "Naive-Bayes classifiers\n",
    "----"
   ]
  },
  {
   "cell_type": "markdown",
   "metadata": {},
   "source": [
    "Load the data from the KNN lab"
   ]
  },
  {
   "cell_type": "code",
   "execution_count": 6,
   "metadata": {
    "collapsed": false
   },
   "outputs": [],
   "source": [
    "import numpy as np\n",
    "import pylab as plt\n",
    "%matplotlib inline\n",
    "trainx = np.loadtxt('trainx.csv',delimiter=',')\n",
    "testx = np.loadtxt('testx.csv',delimiter=',')\n",
    "traint = np.hstack((np.zeros(50,),np.ones(50,)))\n",
    "testt = np.hstack((np.zeros(200,),np.ones(200,)))"
   ]
  },
  {
   "cell_type": "markdown",
   "metadata": {},
   "source": [
    "Plot the data"
   ]
  },
  {
   "cell_type": "code",
   "execution_count": 7,
   "metadata": {
    "collapsed": false
   },
   "outputs": [
    {
     "data": {
      "text/plain": [
       "[<matplotlib.lines.Line2D at 0x1048c7dd0>]"
      ]
     },
     "execution_count": 7,
     "metadata": {},
     "output_type": "execute_result"
    },
    {
     "data": {
      "image/png": "[encoded data removed]",
      "text/plain": [
       "<matplotlib.figure.Figure at 0x1048c7b90>"
      ]
     },
     "metadata": {},
     "output_type": "display_data"
    }
   ],
   "source": [
    "plt.plot(trainx[:50,0],trainx[:50,1],'ro')\n",
    "plt.plot(trainx[50:,0],trainx[50:,1],'bo')"
   ]
  },
  {
   "cell_type": "markdown",
   "metadata": {},
   "source": [
    "We will use Gaussian distributions for each class. For each class, we fit a Gaussian to each dimension (by compute the mean and variance). The prior for each class will be the proportion of training data in that class."
   ]
  },
  {
   "cell_type": "code",
   "execution_count": 25,
   "metadata": {
    "collapsed": false
   },
   "outputs": [],
   "source": [
    "parameters = {}\n",
    "for cl in range(2):\n",
    "    data_pos = np.where(traint==cl)[0]\n",
    "    class_pars = {}\n",
    "    class_pars['mean'] = trainx[data_pos,:].mean(axis=0)\n",
    "    class_pars['vars'] = trainx[data_pos,:].var(axis=0)\n",
    "    class_pars['prior'] = 1.0*len(data_pos)/len(trainx)\n",
    "    parameters[cl] = class_pars\n",
    "    "
   ]
  },
  {
   "cell_type": "markdown",
   "metadata": {},
   "source": [
    "Loop through the test points, computing their likelihood in each class and multiplying by the prior"
   ]
  },
  {
   "cell_type": "code",
   "execution_count": 44,
   "metadata": {
    "collapsed": false
   },
   "outputs": [],
   "source": [
    "predictions = np.zeros((400,))\n",
    "for j,tx in enumerate(testx):\n",
    "    un_norm_prob = np.zeros((2,))\n",
    "    for cl in parameters:\n",
    "        un_norm_prob[cl] = parameters[cl]['prior']\n",
    "        for i,m in enumerate(parameters[cl]['mean']):\n",
    "            vari = parameters[cl]['vars'][i]\n",
    "            un_norm_prob[cl] *= 1.0/np.sqrt(2.0*np.pi*vari)\n",
    "            un_norm_prob[cl] *= np.exp((-0.5/var)*(tx[i]-m)**2)\n",
    "    norm_prob = un_norm_prob/un_norm_prob.sum()\n",
    "    predictions[j] = norm_prob.argmax()\n"
   ]
  },
  {
   "cell_type": "markdown",
   "metadata": {},
   "source": [
    "Compute the accuracy of the classifier"
   ]
  },
  {
   "cell_type": "code",
   "execution_count": 45,
   "metadata": {
    "collapsed": false
   },
   "outputs": [
    {
     "name": "stdout",
     "output_type": "stream",
     "text": [
      "0.89\n"
     ]
    }
   ],
   "source": [
    "accuracy = (predictions == testt).mean()\n",
    "print accuracy"
   ]
  },
  {
   "cell_type": "code",
   "execution_count": null,
   "metadata": {
    "collapsed": true
   },
   "outputs": [],
   "source": []
  }
 ],
 "metadata": {
  "kernelspec": {
   "display_name": "Python 2",
   "language": "python",
   "name": "python2"
  },
  "language_info": {
   "codemirror_mode": {
    "name": "ipython",
    "version": 2
   },
   "file_extension": ".py",
   "mimetype": "text/x-python",
   "name": "python",
   "nbconvert_exporter": "python",
   "pygments_lexer": "ipython2",
   "version": "2.7.11"
  }
 },
 "nbformat": 4,
 "nbformat_minor": 0
}
