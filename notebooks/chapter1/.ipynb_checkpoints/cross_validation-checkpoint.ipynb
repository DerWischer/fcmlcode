{
 "metadata": {
  "name": "",
  "signature": "sha256:1712a5ee02081ad04324c570405e90d9feb5805e40938e9757c52789da3cb26e"
 },
 "nbformat": 3,
 "nbformat_minor": 0,
 "worksheets": [
  {
   "cells": [
    {
     "cell_type": "code",
     "collapsed": false,
     "input": [
      "import numpy as np\n",
      "N = 100\n",
      "x = 10*np.random.rand(N,1) - 5\n",
      "t = 5*x**3 - x**2 + x + 150*np.random.randn(N,1)\n",
      "N_test = 200\n",
      "x_test = np.linspace(-5,5,N_test)[:,None]\n",
      "t_test = 5*x_test**3 - x_test**2 + x_test + 150*np.random.randn(N_test,1)\n"
     ],
     "language": "python",
     "metadata": {},
     "outputs": [],
     "prompt_number": 7
    },
    {
     "cell_type": "code",
     "collapsed": false,
     "input": [
      "max_order = 7\n",
      "X = []\n",
      "X_test = []\n",
      "K = 10\n",
      "sizes = np.tile(np.floor(N/10),(1,K))\n",
      "sizes[-1] = sizes[-1] + N - sizes.sum()\n",
      "c_sizes = np.hstack((0,np.cumsum(sizes)))\n",
      "X = np.ones_like(x)\n",
      "X_test = np.ones_like(x_test)\n",
      "for k in range(max_order):\n",
      "    X = np.hstack((X,x**(k+1)))\n",
      "    X_test = np.hstack((X_test,x_test**(k+1)))\n",
      "    for fold in range(K):\n",
      "        X_fold = X[c_sizes[fold]:c_sizes[fold+1],:]\n",
      "        X_train = np.delete(X,np.arange(c_sizes[fold],c_sizes[fold+1],1),0)\n",
      "        t_fold = t[c_sizes[fold]:c_sizes[fold+1]]\n",
      "        t_train = np.delete(t,np.arange(c_sizes[fold],c_sizes[fold+1],1),0)\n",
      "        w = np.linalg.solve(np.dot(X_train.T,X_train),np.dot(X_train.T,t_train))"
     ],
     "language": "python",
     "metadata": {},
     "outputs": [],
     "prompt_number": 48
    },
    {
     "cell_type": "code",
     "collapsed": false,
     "input": [
      "print(w)"
     ],
     "language": "python",
     "metadata": {},
     "outputs": [
      {
       "output_type": "stream",
       "stream": "stdout",
       "text": [
        "[[  2.31373083e+01]\n",
        " [ -3.66967550e+01]\n",
        " [ -1.70150997e+01]\n",
        " [  1.81725646e+01]\n",
        " [  1.37748769e+00]\n",
        " [ -9.73115547e-01]\n",
        " [ -3.37259462e-02]\n",
        " [  2.07212770e-02]]\n"
       ]
      }
     ],
     "prompt_number": 49
    },
    {
     "cell_type": "code",
     "collapsed": false,
     "input": [],
     "language": "python",
     "metadata": {},
     "outputs": [],
     "prompt_number": 44
    },
    {
     "cell_type": "code",
     "collapsed": false,
     "input": [],
     "language": "python",
     "metadata": {},
     "outputs": []
    }
   ],
   "metadata": {}
  }
 ]
}