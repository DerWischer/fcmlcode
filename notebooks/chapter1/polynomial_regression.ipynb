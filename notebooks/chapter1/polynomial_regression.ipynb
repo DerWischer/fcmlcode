{
 "cells": [
  {
   "cell_type": "code",
   "execution_count": null,
   "metadata": {
    "collapsed": true
   },
   "outputs": [],
   "source": []
  },
  {
   "cell_type": "markdown",
   "metadata": {},
   "source": [
    "<h3>Nonlinear regression with the linear model</h3>\n",
    "<p>Start by loading the data</p>"
   ]
  },
  {
   "cell_type": "code",
   "execution_count": 8,
   "metadata": {
    "collapsed": false
   },
   "outputs": [],
   "source": [
    "import numpy as np\n",
    "data = np.loadtxt('/Users/simon/git/fcmlcode/labs/linear_regression/data100m.csv',delimiter=',')\n",
    "x = data[:,0][:,None]\n",
    "t = data[:,1][:,None]"
   ]
  },
  {
   "cell_type": "markdown",
   "metadata": {},
   "source": [
    "<h4>Rescaling $x$</h4>\n",
    "<p>We re-scale the Olympic year value to help with numerical problems when we look at high orders. Satisfy yourself that this doesn't make any difference!</p>"
   ]
  },
  {
   "cell_type": "code",
   "execution_count": 9,
   "metadata": {
    "collapsed": false
   },
   "outputs": [],
   "source": [
    "x = (x-1896)/4"
   ]
  },
  {
   "cell_type": "markdown",
   "metadata": {},
   "source": [
    "<h4>Creating $\\mathbf{X}$</h4>\n",
    "<p>We loop up to the desired order, adding columns to $\\mathbf{X}$ at each stage</p>"
   ]
  },
  {
   "cell_type": "code",
   "execution_count": 28,
   "metadata": {
    "collapsed": false
   },
   "outputs": [
    {
     "name": "stdout",
     "output_type": "stream",
     "text": [
      "[[  1.00000000e+00   0.00000000e+00   0.00000000e+00]\n",
      " [  1.00000000e+00   1.00000000e+00   8.41470985e-01]\n",
      " [  1.00000000e+00   2.00000000e+00   9.09297427e-01]\n",
      " [  1.00000000e+00   2.50000000e+00   5.98472144e-01]\n",
      " [  1.00000000e+00   3.00000000e+00   1.41120008e-01]\n",
      " [  1.00000000e+00   4.00000000e+00  -7.56802495e-01]\n",
      " [  1.00000000e+00   6.00000000e+00  -2.79415498e-01]\n",
      " [  1.00000000e+00   7.00000000e+00   6.56986599e-01]\n",
      " [  1.00000000e+00   8.00000000e+00   9.89358247e-01]\n",
      " [  1.00000000e+00   9.00000000e+00   4.12118485e-01]\n",
      " [  1.00000000e+00   1.00000000e+01  -5.44021111e-01]\n",
      " [  1.00000000e+00   1.30000000e+01   4.20167037e-01]\n",
      " [  1.00000000e+00   1.40000000e+01   9.90607356e-01]\n",
      " [  1.00000000e+00   1.50000000e+01   6.50287840e-01]\n",
      " [  1.00000000e+00   1.60000000e+01  -2.87903317e-01]\n",
      " [  1.00000000e+00   1.70000000e+01  -9.61397492e-01]\n",
      " [  1.00000000e+00   1.80000000e+01  -7.50987247e-01]\n",
      " [  1.00000000e+00   1.90000000e+01   1.49877210e-01]\n",
      " [  1.00000000e+00   2.00000000e+01   9.12945251e-01]\n",
      " [  1.00000000e+00   2.10000000e+01   8.36655639e-01]\n",
      " [  1.00000000e+00   2.20000000e+01  -8.85130929e-03]\n",
      " [  1.00000000e+00   2.30000000e+01  -8.46220404e-01]\n",
      " [  1.00000000e+00   2.40000000e+01  -9.05578362e-01]\n",
      " [  1.00000000e+00   2.50000000e+01  -1.32351750e-01]\n",
      " [  1.00000000e+00   2.60000000e+01   7.62558450e-01]\n",
      " [  1.00000000e+00   2.70000000e+01   9.56375928e-01]\n",
      " [  1.00000000e+00   2.80000000e+01   2.70905788e-01]\n",
      " [  1.00000000e+00   2.90000000e+01  -6.63633884e-01]]\n"
     ]
    }
   ],
   "source": [
    "maxorder = 1\n",
    "X = np.ones_like(x)\n",
    "for i in range(1,maxorder+1):\n",
    "    X = np.hstack((X,x**i))\n",
    "\n",
    "X = np.hstack((X,np.sin(x)))\n",
    "print X"
   ]
  },
  {
   "cell_type": "markdown",
   "metadata": {},
   "source": [
    "<p>Solve the system...</p>"
   ]
  },
  {
   "cell_type": "code",
   "execution_count": 29,
   "metadata": {
    "collapsed": false
   },
   "outputs": [
    {
     "name": "stdout",
     "output_type": "stream",
     "text": [
      "[[ 11.11334304]\n",
      " [ -0.05212027]\n",
      " [  0.0732786 ]]\n"
     ]
    }
   ],
   "source": [
    "w = np.dot(np.linalg.inv(np.dot(X.T,X)),np.dot(X.T,t))\n",
    "print(w)"
   ]
  },
  {
   "cell_type": "markdown",
   "metadata": {},
   "source": [
    "Create a test set in the same manner as $\\mathbf{X}$..."
   ]
  },
  {
   "cell_type": "code",
   "execution_count": 30,
   "metadata": {
    "collapsed": false
   },
   "outputs": [],
   "source": [
    "x_test = np.linspace(0,30,100)[:,None]\n",
    "X_test = np.ones_like(x_test)\n",
    "for i in range(1,maxorder+1):\n",
    "    X_test = np.hstack((X_test,x_test**i))\n",
    "X_test = np.hstack((X_test,np.sin(x_test)))\n",
    "f_test = np.dot(X_test,w)"
   ]
  },
  {
   "cell_type": "code",
   "execution_count": 31,
   "metadata": {
    "collapsed": false
   },
   "outputs": [
    {
     "data": {
      "text/plain": [
       "[<matplotlib.lines.Line2D at 0x107621710>]"
      ]
     },
     "execution_count": 31,
     "metadata": {},
     "output_type": "execute_result"
    },
    {
     "data": {
      "image/png": "[encoded data removed]",
      "text/plain": [
       "<matplotlib.figure.Figure at 0x107621fd0>"
      ]
     },
     "metadata": {},
     "output_type": "display_data"
    }
   ],
   "source": [
    "import pylab as plt\n",
    "%matplotlib inline\n",
    "plt.plot(x_test,f_test,'b-',linewidth=2)\n",
    "plt.plot(x,t,'ro')"
   ]
  },
  {
   "cell_type": "markdown",
   "metadata": {},
   "source": [
    "<p>Try playing with the maximum order and extending the test data range...</p>"
   ]
  }
 ],
 "metadata": {
  "kernelspec": {
   "display_name": "Python 2",
   "language": "python",
   "name": "python2"
  },
  "language_info": {
   "codemirror_mode": {
    "name": "ipython",
    "version": 2
   },
   "file_extension": ".py",
   "mimetype": "text/x-python",
   "name": "python",
   "nbconvert_exporter": "python",
   "pygments_lexer": "ipython2",
   "version": "2.7.10"
  }
 },
 "nbformat": 4,
 "nbformat_minor": 0
}
