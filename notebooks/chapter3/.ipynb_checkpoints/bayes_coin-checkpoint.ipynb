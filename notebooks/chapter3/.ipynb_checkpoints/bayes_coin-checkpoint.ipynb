{
 "metadata": {
  "name": "",
  "signature": "sha256:430ab0f4d3e2ddc12e2bb0b28c975155ac0acb10e9902b4074dd12c1e60363b1"
 },
 "nbformat": 3,
 "nbformat_minor": 0,
 "worksheets": []
}