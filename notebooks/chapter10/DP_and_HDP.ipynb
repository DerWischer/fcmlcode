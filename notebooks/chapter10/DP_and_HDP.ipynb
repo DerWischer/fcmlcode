{
 "cells": [
  {
   "cell_type": "markdown",
   "metadata": {},
   "source": [
    "Dirichlet Processes and Hierarchical Dirichlet Processes\n",
    "=="
   ]
  },
  {
   "cell_type": "code",
   "execution_count": 1,
   "metadata": {
    "collapsed": true
   },
   "outputs": [],
   "source": [
    "import numpy as np"
   ]
  },
  {
   "cell_type": "markdown",
   "metadata": {},
   "source": [
    "Make a simple Gaussian object that we can sample from"
   ]
  },
  {
   "cell_type": "code",
   "execution_count": 8,
   "metadata": {
    "collapsed": true
   },
   "outputs": [],
   "source": [
    "class Gaussian(object):\n",
    "    def __init__(self,mu,sd):\n",
    "        self.mu = mu\n",
    "        self.sd = sd\n",
    "    def sample(self):\n",
    "        # To sample from a gaussian with standard deviation s\n",
    "        # and mean mu, sample from a standard one, multiple by s and add mu\n",
    "        return np.random.randn()*self.sd + self.mu"
   ]
  },
  {
   "cell_type": "markdown",
   "metadata": {},
   "source": [
    "Make a Dirichlet Process object"
   ]
  },
  {
   "cell_type": "code",
   "execution_count": 26,
   "metadata": {
    "collapsed": false
   },
   "outputs": [],
   "source": [
    "class DP(object):\n",
    "    def __init__(self,base,alpha):\n",
    "        self.base = base # Must be something with a sample() method\n",
    "        self.alpha = alpha\n",
    "        self.N = 0 # Keep track of the number of samples\n",
    "        self.samples = [] # And the samples themselves\n",
    "    def sample(self):\n",
    "        if self.N == 0:\n",
    "            self.samples.append(self.base.sample())\n",
    "            self.N += 1\n",
    "        else:\n",
    "            # Compute p(new)\n",
    "            p_new = float(self.alpha)/float(self.N + self.alpha)\n",
    "            if np.random.rand() <= p_new:\n",
    "                # Generate from the base\n",
    "                self.samples.append(self.base.sample())\n",
    "                self.N += 1\n",
    "            else:\n",
    "                # Pick one of the previous ones uniformly\n",
    "                # This is the same as picking the unique ones\n",
    "                # prorportional to the number of times they've been samples\n",
    "                pos = np.random.randint(self.N)\n",
    "                self.samples.append(self.samples[pos])\n",
    "                self.N += 1\n",
    "        return self.samples[-1]\n",
    "    def nice_output(self):\n",
    "        # Return the unique values\n",
    "        # And the number of times each was selected\n",
    "        # Returns a list of tuples\n",
    "        unique = {}\n",
    "        for s in self.samples:\n",
    "            if not s in unique:\n",
    "                unique[s] = 1\n",
    "            else:\n",
    "                unique[s] += 1\n",
    "        u_c = zip(unique.keys(),unique.values())\n",
    "        return sorted(u_c,key = lambda x: x[1], reverse = True)\n",
    "    def reset(self):\n",
    "        self.N = 0\n",
    "        self.samples = []\n",
    "        \n",
    "            "
   ]
  },
  {
   "cell_type": "markdown",
   "metadata": {},
   "source": [
    "Demonstrate the DP -- varying alpha will change the number of unique values sampled"
   ]
  },
  {
   "cell_type": "code",
   "execution_count": 24,
   "metadata": {
    "collapsed": false
   },
   "outputs": [
    {
     "name": "stdout",
     "output_type": "stream",
     "text": [
      "-207.229957516 9\n",
      "-79.3268286841 9\n",
      "60.4504331168 8\n",
      "-78.9814961785 8\n",
      "97.6532899876 6\n",
      "-37.9716379396 6\n",
      "10.8641822076 6\n",
      "8.17541885598 5\n",
      "127.460503987 5\n",
      "-22.5670330183 5\n",
      "72.6510928538 4\n",
      "10.6281397734 4\n",
      "-115.44445357 4\n",
      "21.3661648854 4\n",
      "-69.585098738 3\n",
      "-12.98585771 2\n",
      "-153.715874257 2\n",
      "-5.04500494451 2\n",
      "74.1317816759 2\n",
      "-60.435099588 1\n",
      "-69.3381549986 1\n",
      "39.80566167 1\n",
      "55.581807788 1\n",
      "-31.9250139845 1\n",
      "156.378187127 1\n"
     ]
    }
   ],
   "source": [
    "g = Gaussian(0,100) # make the base object\n",
    "d = DP(g,10.0)\n",
    "for i in range(100):\n",
    "    d.sample()\n",
    "op = d.nice_output()\n",
    "for v,c in op:\n",
    "    print v,c"
   ]
  },
  {
   "cell_type": "markdown",
   "metadata": {},
   "source": [
    "To make a hierarchical DP, simply use another DP as the base"
   ]
  },
  {
   "cell_type": "code",
   "execution_count": 33,
   "metadata": {
    "collapsed": false
   },
   "outputs": [],
   "source": [
    "bottom_dps = []\n",
    "# make a base dp with alpha = 10\n",
    "base_dp = DP(g,10.0)\n",
    "# make 5 dps with alpha = 1 and the base dp as their base\n",
    "for i in range(5):\n",
    "    bottom_dps.append(DP(base_dp,1.0))"
   ]
  },
  {
   "cell_type": "markdown",
   "metadata": {},
   "source": [
    "Sample from them"
   ]
  },
  {
   "cell_type": "code",
   "execution_count": 34,
   "metadata": {
    "collapsed": true
   },
   "outputs": [],
   "source": [
    "for bottom_dp in bottom_dps:\n",
    "    for i in range(100):\n",
    "        bottom_dp.sample()"
   ]
  },
  {
   "cell_type": "markdown",
   "metadata": {},
   "source": [
    "Display the top level samples. The total count here is the total number of tables across all restaurants..."
   ]
  },
  {
   "cell_type": "code",
   "execution_count": 36,
   "metadata": {
    "collapsed": false
   },
   "outputs": [
    {
     "name": "stdout",
     "output_type": "stream",
     "text": [
      "59.8566399219 8\n",
      "253.527008094 5\n",
      "85.31922073 3\n",
      "13.0800460328 2\n",
      "-139.048187902 2\n",
      "-25.9265423117 2\n",
      "-203.014057244 1\n",
      "40.5659593236 1\n",
      "47.3634316806 1\n",
      "50.52657938 1\n",
      "28.0819836225 1\n",
      "-94.4238591997 1\n",
      "-59.0510246964 1\n",
      "142.482242432 1\n"
     ]
    }
   ],
   "source": [
    "for v,c in base_dp.nice_output():\n",
    "    print v,c"
   ]
  },
  {
   "cell_type": "markdown",
   "metadata": {},
   "source": [
    "Print the counts in the individual DPs.\n",
    "Counts are now the total number of people sitting at tables serving a particular dish."
   ]
  },
  {
   "cell_type": "code",
   "execution_count": 38,
   "metadata": {
    "collapsed": false
   },
   "outputs": [
    {
     "name": "stdout",
     "output_type": "stream",
     "text": [
      "Lower DP 0\n",
      "50.52657938 26\n",
      "-94.4238591997 25\n",
      "47.3634316806 21\n",
      "253.527008094 17\n",
      "-59.0510246964 10\n",
      "40.5659593236 1\n",
      "\n",
      "\n",
      "Lower DP 1\n",
      "59.8566399219 87\n",
      "-203.014057244 13\n",
      "\n",
      "\n",
      "Lower DP 2\n",
      "28.0819836225 44\n",
      "253.527008094 31\n",
      "59.8566399219 19\n",
      "13.0800460328 3\n",
      "-139.048187902 2\n",
      "85.31922073 1\n",
      "\n",
      "\n",
      "Lower DP 3\n",
      "-25.9265423117 66\n",
      "59.8566399219 19\n",
      "-139.048187902 12\n",
      "85.31922073 2\n",
      "253.527008094 1\n",
      "\n",
      "\n",
      "Lower DP 4\n",
      "142.482242432 64\n",
      "59.8566399219 23\n",
      "85.31922073 9\n",
      "13.0800460328 4\n",
      "\n",
      "\n"
     ]
    }
   ],
   "source": [
    "for i,bottom_dp in enumerate(bottom_dps):\n",
    "    print \"Lower DP {}\".format(i)\n",
    "    for v,c in bottom_dp.nice_output():\n",
    "        print v,c\n",
    "    print\n",
    "    print"
   ]
  },
  {
   "cell_type": "code",
   "execution_count": null,
   "metadata": {
    "collapsed": true
   },
   "outputs": [],
   "source": []
  }
 ],
 "metadata": {
  "kernelspec": {
   "display_name": "Python 2",
   "language": "python",
   "name": "python2"
  },
  "language_info": {
   "codemirror_mode": {
    "name": "ipython",
    "version": 2
   },
   "file_extension": ".py",
   "mimetype": "text/x-python",
   "name": "python",
   "nbconvert_exporter": "python",
   "pygments_lexer": "ipython2",
   "version": "2.7.10"
  }
 },
 "nbformat": 4,
 "nbformat_minor": 1
}
